{
 "cells": [
  {
   "cell_type": "code",
   "execution_count": 4,
   "metadata": {},
   "outputs": [],
   "source": [
    "import numpy as np\n",
    "import pandas as pd\n",
    "import math\n",
    "from scipy.stats import t\n",
    "import matplotlib.pyplot as plt\n",
    "from numpy.linalg import multi_dot"
   ]
  },
  {
   "cell_type": "code",
   "execution_count": 5,
   "metadata": {},
   "outputs": [],
   "source": [
    "# generating the kendall-tau correlation matrix\n",
    "\n",
    "data = pd.read_csv (\"C:/Users/anirbighosh/Documents/CQF/Final Project/data files/corr.csv\")\n",
    "cols = ['BAC_return', 'CITI_return', 'GS_return', 'JPMC_return', 'MS_return' ]\n",
    "data = data[cols]\n",
    "corr = data.corr(method='kendall')\n",
    "corr = corr.apply(lambda x: np.sin(0.5 * math.pi *x))\n",
    "#print(data)"
   ]
  },
  {
   "cell_type": "code",
   "execution_count": 6,
   "metadata": {},
   "outputs": [],
   "source": [
    "# converting the data to uniform before being passed to the log_likelihood function\n",
    "\n",
    "from sklearn.preprocessing import QuantileTransformer\n",
    "quantile = QuantileTransformer(output_distribution='uniform', n_quantiles = 940)\n",
    "data_trans = pd.DataFrame(quantile.fit_transform(data))\n",
    "# dropping rows with U = 0 or 1\n",
    "idx = np.where((data_trans[0]== 0) | (data_trans[0]== 1) | (data_trans[1]== 0) | (data_trans[1]== 1)|\n",
    "               (data_trans[2]== 0) | (data_trans[2]== 1) | (data_trans[3]== 0) | (data_trans[3]== 1)|\n",
    "               (data_trans[4]== 0) | (data_trans[4]== 1))                         \n",
    "data_trans.drop(data_trans.index[idx], inplace = True)\n",
    "n = data_trans.shape[0]\n",
    "k = data_trans.shape[1]"
   ]
  },
  {
   "cell_type": "code",
   "execution_count": 55,
   "metadata": {},
   "outputs": [],
   "source": [
    "def plot_log_likelihood():\n",
    "    \n",
    "    result = []\n",
    "    v = range (1, 25, 1)\n",
    "    \n",
    "    for i in v:\n",
    "        LL = 0\n",
    "        for j in range(n):\n",
    "            LL = LL + np.log(t_copula_density(data_trans.iloc[j,], corr, i))\n",
    "        result.append(LL)\n",
    "        \n",
    "    fig, ax = plt.subplots(figsize=(10, 6))\n",
    "    ax.plot(v, result)\n",
    "    ax.set_xticks([1, 3, 5, 7, 9, 11, 13, 15, 17, 19, 21, 23, 25])\n",
    "    fig.show()"
   ]
  },
  {
   "cell_type": "code",
   "execution_count": 56,
   "metadata": {},
   "outputs": [],
   "source": [
    "def t_copula_density(U, corr, v):\n",
    "    \n",
    "    first_term = (1 / math.sqrt(np.linalg.det(corr))) * (math.gamma((v+k)/2)/math.gamma(v/2)) * (math.gamma(v/2)/math.gamma((v+1)/2))**k\n",
    "    numerator = (1 + multi_dot([t.ppf(U.transpose(),v),np.linalg.inv(corr),t.ppf(U, v)])/v) ** (-(v+k)/2)\n",
    "    \n",
    "    denominator = 1\n",
    "    for i in range(k):\n",
    "        denominator = denominator * (1 + (t.ppf(U[i],v))**2/v) ** (-(v+1)/2)      \n",
    "    result = first_term * (numerator/denominator)\n",
    "    \n",
    "    return  result"
   ]
  },
  {
   "cell_type": "code",
   "execution_count": 57,
   "metadata": {},
   "outputs": [
    {
     "name": "stderr",
     "output_type": "stream",
     "text": [
      "C:\\Users\\anirbighosh\\AppData\\Local\\Continuum\\anaconda3\\lib\\site-packages\\ipykernel_launcher.py:15: UserWarning: Matplotlib is currently using module://ipykernel.pylab.backend_inline, which is a non-GUI backend, so cannot show the figure.\n",
      "  from ipykernel import kernelapp as app\n"
     ]
    },
    {
     "data": {
      "image/png": "[encoded data removed]",
      "text/plain": [
       "<Figure size 720x432 with 1 Axes>"
      ]
     },
     "metadata": {
      "needs_background": "light"
     },
     "output_type": "display_data"
    }
   ],
   "source": [
    "plot_log_likelihood()"
   ]
  }
 ],
 "metadata": {
  "kernelspec": {
   "display_name": "Python 3",
   "language": "python",
   "name": "python3"
  },
  "language_info": {
   "codemirror_mode": {
    "name": "ipython",
    "version": 3
   },
   "file_extension": ".py",
   "mimetype": "text/x-python",
   "name": "python",
   "nbconvert_exporter": "python",
   "pygments_lexer": "ipython3",
   "version": "3.7.3"
  }
 },
 "nbformat": 4,
 "nbformat_minor": 2
}
